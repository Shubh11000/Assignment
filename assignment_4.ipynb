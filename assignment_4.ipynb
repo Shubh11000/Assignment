{
 "cells": [
  {
   "cell_type": "code",
   "execution_count": null,
   "id": "548fd477",
   "metadata": {},
   "outputs": [],
   "source": [
    "1) What exactly is []?\n",
    "ans=This is  empty list value, which is a list value that contains no items"
   ]
  },
  {
   "cell_type": "code",
   "execution_count": 7,
   "id": "47dc49ca",
   "metadata": {},
   "outputs": [
    {
     "data": {
      "text/plain": [
       "[2, 4, 'hello', 8, 10]"
      ]
     },
     "execution_count": 7,
     "metadata": {},
     "output_type": "execute_result"
    }
   ],
   "source": [
    "#2) In a list of values stored in a variable called spam, how would you assign the value 'hello' as the third value? (Assume [2, 4, 6, 8, 10] are in spam.)\n",
    "spa=[2,4,6,8,10]\n",
    "spa[2]=\"hello\"\n",
    "spa"
   ]
  },
  {
   "cell_type": "code",
   "execution_count": 8,
   "id": "19bda7ed",
   "metadata": {},
   "outputs": [
    {
     "data": {
      "text/plain": [
       "[3]"
      ]
     },
     "execution_count": 8,
     "metadata": {},
     "output_type": "execute_result"
    }
   ],
   "source": [
    "#3). What is the value of spam[int(int('3' * 2) / 11)]\n",
    "spam=[\"a\",\"b\",\"c\",\"d\"]\n",
    "[int(int('3' * 2) / 11)]"
   ]
  },
  {
   "cell_type": "code",
   "execution_count": 9,
   "id": "e1aab4e4",
   "metadata": {},
   "outputs": [
    {
     "data": {
      "text/plain": [
       "'d'"
      ]
     },
     "execution_count": 9,
     "metadata": {},
     "output_type": "execute_result"
    }
   ],
   "source": [
    "#4) What is the value of spam[-1]?\n",
    "spam[-1]"
   ]
  },
  {
   "cell_type": "code",
   "execution_count": 10,
   "id": "c778e4da",
   "metadata": {},
   "outputs": [
    {
     "data": {
      "text/plain": [
       "['a', 'b']"
      ]
     },
     "execution_count": 10,
     "metadata": {},
     "output_type": "execute_result"
    }
   ],
   "source": [
    "#5) What is the value of spam[:2]?\n",
    "spam[:2]"
   ]
  },
  {
   "cell_type": "code",
   "execution_count": 12,
   "id": "ff0a3a1d",
   "metadata": {},
   "outputs": [
    {
     "data": {
      "text/plain": [
       "1"
      ]
     },
     "execution_count": 12,
     "metadata": {},
     "output_type": "execute_result"
    }
   ],
   "source": [
    "#6) What is the value of bacon.index('cat')?\n",
    "bacon= [3.14, 'cat', 11, 'cat', True] \n",
    "bacon.index(\"cat\")"
   ]
  },
  {
   "cell_type": "code",
   "execution_count": 14,
   "id": "5185200f",
   "metadata": {},
   "outputs": [
    {
     "data": {
      "text/plain": [
       "[3.14, 'cat', 11, 'cat', True, 99, 99]"
      ]
     },
     "execution_count": 14,
     "metadata": {},
     "output_type": "execute_result"
    }
   ],
   "source": [
    "#7). How does bacon.append(99) change the look of the list value in bacon?\n",
    "bacon.append(99)\n",
    "bacon"
   ]
  },
  {
   "cell_type": "code",
   "execution_count": 16,
   "id": "142f126d",
   "metadata": {},
   "outputs": [
    {
     "data": {
      "text/plain": [
       "[3.14, 11, True, 99, 99]"
      ]
     },
     "execution_count": 16,
     "metadata": {},
     "output_type": "execute_result"
    }
   ],
   "source": [
    "#8) How does bacon.remove('cat') change the look of the list in bacon?\n",
    "bacon.remove('cat')\n",
    "bacon"
   ]
  },
  {
   "cell_type": "code",
   "execution_count": null,
   "id": "9247ea62",
   "metadata": {},
   "outputs": [],
   "source": [
    "9). What are the list concatenation and list replication operators?\n",
    "ans=The operator for list concatenation is +, while the operator for replication is *"
   ]
  },
  {
   "cell_type": "code",
   "execution_count": null,
   "id": "eb36e906",
   "metadata": {},
   "outputs": [],
   "source": [
    "10). What is difference between the list methods append() and insert()?\n",
    "ans=The only difference between append() and insert() is that insert function allows us to add a specific element at a specified index of the list unlike append() where we can add the element only at end of the list."
   ]
  },
  {
   "cell_type": "code",
   "execution_count": null,
   "id": "43b3bdcd",
   "metadata": {},
   "outputs": [],
   "source": [
    "11) What are the two methods for removing items from a list?\n",
    "ans=The methods are remove(), pop() . It helps to remove the very first given element matching from the list.In remove we should specify the item to be removed in the remove() .The pop() method removes an element from the list based on the index given."
   ]
  },
  {
   "cell_type": "code",
   "execution_count": null,
   "id": "87538b38",
   "metadata": {},
   "outputs": [],
   "source": [
    "12). Describe how list values and string values are identical.\n",
    "ans=The similarity between Lists and Strings in Python is that both are sequences and ordered collections"
   ]
  },
  {
   "cell_type": "code",
   "execution_count": null,
   "id": "754e8f2a",
   "metadata": {},
   "outputs": [],
   "source": [
    "13). What's the difference between tuples and lists?\n",
    "ans=The key difference between the tuples and lists is that while the tuples are immutable objects the lists are mutable. This means that tuples cannot be changed while the lists can be modified. Tuples are more memory efficient than the lists."
   ]
  },
  {
   "cell_type": "code",
   "execution_count": 4,
   "id": "c25d357e",
   "metadata": {},
   "outputs": [],
   "source": [
    "14) How do you type a tuple value that only contains the integer 42?\n",
    "ans=With parens for exemplar eggs = (‘42’)"
   ]
  },
  {
   "cell_type": "code",
   "execution_count": null,
   "id": "53861209",
   "metadata": {},
   "outputs": [],
   "source": [
    "15) How do you get a list value's tuple form? How do you get a tuple value's list form?\n",
    "ans=we can place a comma after the value inside the paren for retrieving"
   ]
  },
  {
   "cell_type": "code",
   "execution_count": null,
   "id": "40277cdf",
   "metadata": {},
   "outputs": [],
   "source": [
    "16) Variables that \"contain\" list values are not necessarily lists themselves. Instead, what do they contain?\n",
    "ans="
   ]
  }
 ],
 "metadata": {
  "kernelspec": {
   "display_name": "Python 3 (ipykernel)",
   "language": "python",
   "name": "python3"
  },
  "language_info": {
   "codemirror_mode": {
    "name": "ipython",
    "version": 3
   },
   "file_extension": ".py",
   "mimetype": "text/x-python",
   "name": "python",
   "nbconvert_exporter": "python",
   "pygments_lexer": "ipython3",
   "version": "3.9.7"
  }
 },
 "nbformat": 4,
 "nbformat_minor": 5
}

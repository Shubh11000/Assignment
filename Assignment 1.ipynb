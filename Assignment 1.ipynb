{
 "cells": [
  {
   "cell_type": "code",
   "execution_count": null,
   "id": "a637b454",
   "metadata": {},
   "outputs": [],
   "source": [
    "1) 1. In the below elements which of them are values or an expression? eg:- values can be integer or string and expressions will be mathematical operators.\n",
    "* \n",
    "'hello'\n",
    "-87.8\n",
    "- \n",
    "/ \n",
    "+\n",
    "6 \n",
    "\n",
    "Ans=*=expressions,\n",
    "'hello'=values,\n",
    "-87.8=values,\n",
    "- = expression,\n",
    "/ = expression,\n",
    "+ = expression,\n",
    "6 = values,"
   ]
  },
  {
   "cell_type": "code",
   "execution_count": null,
   "id": "98e136ad",
   "metadata": {},
   "outputs": [],
   "source": [
    "2)What is the difference between string and variable?\n",
    "\n",
    "Ans=A Variable is a store of information, and a String is a type of information you would store in a Variable\n"
   ]
  },
  {
   "cell_type": "code",
   "execution_count": null,
   "id": "5131184c",
   "metadata": {},
   "outputs": [],
   "source": [
    "3) Describe three different data types\n",
    "\n",
    "Ans=1)Strings:Text anything between \" \"  becomes string eg=\"shubh\",\"chavan\"\n",
    "    2)Integers:Whole numbers eg = 1,32\n",
    "    3)Floats:Decimal Numbers eg = 3.1 ,4.5"
   ]
  },
  {
   "cell_type": "code",
   "execution_count": null,
   "id": "009ba5a9",
   "metadata": {},
   "outputs": [],
   "source": [
    "4) What is an expression made up of? What do all expressions do\n",
    "\n",
    "Ans= An expression is a construct made up of variables, operators, and method invocations, which are constructed according to the syntax of the language, that evaluates to a single value.\n",
    "     an expression is evaluated as per the precedence of its operators. So that if there is more than one operator in an expression, their precedence decides which operation will be performed first\n"
   ]
  },
  {
   "cell_type": "code",
   "execution_count": null,
   "id": "92027a60",
   "metadata": {},
   "outputs": [],
   "source": [
    "5) This assignment statements, like spam = 10. What is the difference between an expression and a statement?\n",
    "\n",
    "Ans=Expression is made up of values, containers, and mathematical operators (operands) and the statement is just like a command that a python interpreter executes like print."
   ]
  },
  {
   "cell_type": "code",
   "execution_count": 1,
   "id": "a3c1cb6a",
   "metadata": {},
   "outputs": [
    {
     "data": {
      "text/plain": [
       "23"
      ]
     },
     "execution_count": 1,
     "metadata": {},
     "output_type": "execute_result"
    }
   ],
   "source": [
    "#6) 6. After running the following code, what does the variable bacon contain?\n",
    "#bacon = 22\n",
    "#bacon + 1\n",
    "\n",
    "# Ans=\n",
    "bacon=22\n",
    "bacon+1"
   ]
  },
  {
   "cell_type": "code",
   "execution_count": null,
   "id": "4b4f5373",
   "metadata": {},
   "outputs": [],
   "source": [
    "7). What should the values of the following two terms be?"
   ]
  },
  {
   "cell_type": "code",
   "execution_count": 2,
   "id": "8a0ee5ed",
   "metadata": {},
   "outputs": [
    {
     "data": {
      "text/plain": [
       "'spamspamspam'"
      ]
     },
     "execution_count": 2,
     "metadata": {},
     "output_type": "execute_result"
    }
   ],
   "source": [
    "'spam' + 'spamspam'"
   ]
  },
  {
   "cell_type": "code",
   "execution_count": 3,
   "id": "7179c7bc",
   "metadata": {},
   "outputs": [
    {
     "data": {
      "text/plain": [
       "'spamspamspam'"
      ]
     },
     "execution_count": 3,
     "metadata": {},
     "output_type": "execute_result"
    }
   ],
   "source": [
    "'spam' * 3"
   ]
  },
  {
   "cell_type": "code",
   "execution_count": null,
   "id": "c00925dc",
   "metadata": {},
   "outputs": [],
   "source": [
    "8)Why is eggs a valid variable name while 100 is invalid?\n",
    "\n",
    "Ans=because Variable names cannot begin with a number."
   ]
  },
  {
   "cell_type": "code",
   "execution_count": null,
   "id": "a45ff260",
   "metadata": {},
   "outputs": [],
   "source": [
    "9)What three functions can be used to get the integer, floating-point number, or string version of a value?\n",
    "\n",
    "Ans=The int() , float() , and str( ) functions will evaluate to the integer, floating-point number, and string"
   ]
  },
  {
   "cell_type": "code",
   "execution_count": null,
   "id": "efd902b3",
   "metadata": {},
   "outputs": [],
   "source": [
    "10) Why does this expression cause an error? How can you fix it?\n",
    "'I have eaten ' + 99 + ' burritos.'\n",
    "\n",
    "Ans=The expression causes an error because 99 is an integer, and only strings can be concatenated to other strings with the + operator"
   ]
  },
  {
   "cell_type": "code",
   "execution_count": 5,
   "id": "8856db8e",
   "metadata": {},
   "outputs": [
    {
     "data": {
      "text/plain": [
       "'I have eaten 99 burritos'"
      ]
     },
     "execution_count": 5,
     "metadata": {},
     "output_type": "execute_result"
    }
   ],
   "source": [
    "#we can fix it by following method\n",
    "\n",
    "'I have eaten ' + str(99) + ' burritos'"
   ]
  },
  {
   "cell_type": "code",
   "execution_count": null,
   "id": "b4893ee9",
   "metadata": {},
   "outputs": [],
   "source": []
  }
 ],
 "metadata": {
  "kernelspec": {
   "display_name": "Python 3",
   "language": "python",
   "name": "python3"
  },
  "language_info": {
   "codemirror_mode": {
    "name": "ipython",
    "version": 3
   },
   "file_extension": ".py",
   "mimetype": "text/x-python",
   "name": "python",
   "nbconvert_exporter": "python",
   "pygments_lexer": "ipython3",
   "version": "3.8.8"
  }
 },
 "nbformat": 4,
 "nbformat_minor": 5
}

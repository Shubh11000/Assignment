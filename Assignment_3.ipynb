{
 "cells": [
  {
   "cell_type": "code",
   "execution_count": null,
   "id": "87acfa58",
   "metadata": {},
   "outputs": [],
   "source": [
    "1). Why are functions advantageous to have in your programs?\n",
    "ans=Functions reduce the need for duplicate code. This makes programs shorter, easier to read, and easier to update."
   ]
  },
  {
   "cell_type": "code",
   "execution_count": null,
   "id": "eefd4ea4",
   "metadata": {},
   "outputs": [],
   "source": [
    "2). When does the code in a function run: when it's specified or when it's called?\n",
    "ans=When a function is called the program leaves the current section of code and begins to execute the first line inside the function."
   ]
  },
  {
   "cell_type": "code",
   "execution_count": null,
   "id": "daff14f6",
   "metadata": {},
   "outputs": [],
   "source": [
    "3). What statement creates a function?\n",
    "ans=Function blocks begin with the keyword def followed by the function name and parentheses ( ( ) ).\n",
    "\n",
    "Any input parameters or arguments should be placed within these parentheses. You can also define parameters inside these parentheses.\n",
    "\n",
    "The first statement of a function can be an optional statement - the documentation string of the function or docstring.\n",
    "\n",
    "The code block within every function starts with a colon (:) and is indented.\n",
    "\n",
    "The statement return [expression] exits a function, optionally passing back an expression to the caller. A return statement with no arguments is the same as return None.\n",
    "\n",
    "syntax=def functionname( parameters ):\n",
    "   \"function_docstring\"\n",
    "   function_suite\n",
    "   return [expression]"
   ]
  },
  {
   "cell_type": "code",
   "execution_count": null,
   "id": "7b7588cd",
   "metadata": {},
   "outputs": [],
   "source": [
    "4). What is the difference between a function and a function call?\n",
    "ans=A function is a block of code that does a particular operation and returns a result. It usually accepts inputs as parameters and returns a result. The parameters are not mandatory. \n",
    "    A function call is the code used to pass control to a function"
   ]
  },
  {
   "cell_type": "code",
   "execution_count": null,
   "id": "a4304093",
   "metadata": {},
   "outputs": [],
   "source": [
    "5) How many global scopes are there in a Python program? How many local scopes?\n",
    "ans=There is only one global Python scope per program execution. This scope remains in existence until the program terminates and all its names are forgotten."
   ]
  },
  {
   "cell_type": "code",
   "execution_count": null,
   "id": "aeb11c1c",
   "metadata": {},
   "outputs": [],
   "source": [
    "6). What happens to variables in a local scope when the function call returns?\n",
    "ans=When the execution of the function terminates (returns), the local variables are destroyed. Codelens helps you visualize this because the local variables disappear after the function returns."
   ]
  },
  {
   "cell_type": "code",
   "execution_count": null,
   "id": "d1ffb3da",
   "metadata": {},
   "outputs": [],
   "source": [
    "7). What is the concept of a return value? Is it possible to have a return value in an expression?\n",
    "ans=A return is a value that a function returns to the calling script or function when it completes its task. A return value can be any one of the four variable types: handle, integer, object, or string.\n",
    "    Yes we can use that value in a math expression or any other kind of expression in which the value has a logical or coherent meaning."
   ]
  },
  {
   "cell_type": "code",
   "execution_count": null,
   "id": "22070818",
   "metadata": {},
   "outputs": [],
   "source": [
    "8. If a function does not have a return statement, what is the return value of a call to that function?\n",
    "ans=Python will implicitly return a default value . That default return value will always be None ."
   ]
  },
  {
   "cell_type": "code",
   "execution_count": null,
   "id": "43afa4c9",
   "metadata": {},
   "outputs": [],
   "source": [
    "9) How do you make a function variable refer to the global variable?\n",
    "ans=we can use the global keyword to declare which variables are global."
   ]
  },
  {
   "cell_type": "code",
   "execution_count": null,
   "id": "4678e5a0",
   "metadata": {},
   "outputs": [],
   "source": [
    "10). What is the data type of None?\n",
    "ans=The None keyword is used to define a null value, or no value at all. None is not the same as 0, False, or an empty string. None is a data type of its own (NoneType) and only None can be None."
   ]
  },
  {
   "cell_type": "code",
   "execution_count": null,
   "id": "eb132aca",
   "metadata": {},
   "outputs": [],
   "source": [
    "11) What does the sentence import areallyourpetsnamederic do?\n",
    "ans=That import statement imports a module named areallyourpetsnamederic. (This isn't a real Python module)"
   ]
  },
  {
   "cell_type": "code",
   "execution_count": null,
   "id": "141e05b7",
   "metadata": {},
   "outputs": [],
   "source": [
    "12) If you had a bacon() feature in a spam module, what would you call it after importing spam?\n",
    "ans=This function can be called with spam.bacon()"
   ]
  },
  {
   "cell_type": "code",
   "execution_count": null,
   "id": "e7dd974a",
   "metadata": {},
   "outputs": [],
   "source": [
    "13) What can you do to save a programme from crashing if it encounters an error?\n",
    "ans=Place the line of code that might cause an error in a try and except clause."
   ]
  },
  {
   "cell_type": "code",
   "execution_count": null,
   "id": "094e6805",
   "metadata": {},
   "outputs": [],
   "source": [
    "14). What is the purpose of the try clause? What is the purpose of the except clause?\n",
    "ans=The try block allows you to test a block of code for errors. The except block enables you to handle the error with a user-defined response"
   ]
  }
 ],
 "metadata": {
  "kernelspec": {
   "display_name": "Python 3 (ipykernel)",
   "language": "python",
   "name": "python3"
  },
  "language_info": {
   "codemirror_mode": {
    "name": "ipython",
    "version": 3
   },
   "file_extension": ".py",
   "mimetype": "text/x-python",
   "name": "python",
   "nbconvert_exporter": "python",
   "pygments_lexer": "ipython3",
   "version": "3.9.7"
  }
 },
 "nbformat": 4,
 "nbformat_minor": 5
}
